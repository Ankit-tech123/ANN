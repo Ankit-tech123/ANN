{
  "nbformat": 4,
  "nbformat_minor": 0,
  "metadata": {
    "colab": {
      "name": "ANN_save_model.ipynb",
      "provenance": []
    },
    "kernelspec": {
      "name": "python3",
      "display_name": "Python 3"
    },
    "language_info": {
      "name": "python"
    }
  },
  "cells": [
    {
      "cell_type": "code",
      "metadata": {
        "id": "Jgq2QHRH4YDv"
      },
      "source": [
        "import numpy as np\n",
        "import pandas as pd\n",
        "import matplotlib.pyplot as plt\n",
        "import seaborn as sns\n",
        "import warnings \n",
        "warnings.filterwarnings(\"ignore\")\n",
        "\n",
        "import tensorflow as tf\n",
        "from tensorflow.keras.layers import Dense\n",
        "from tensorflow.keras.models import Sequential"
      ],
      "execution_count": null,
      "outputs": []
    },
    {
      "cell_type": "code",
      "metadata": {
        "colab": {
          "base_uri": "https://localhost:8080/",
          "height": 203
        },
        "id": "KI4Kv1el7dEB",
        "outputId": "36d4d3fb-9e20-462b-a569-27e19cf703f0"
      },
      "source": [
        "df=pd.read_csv(\"fake_reg.csv\")\n",
        "df.head()"
      ],
      "execution_count": null,
      "outputs": [
        {
          "output_type": "execute_result",
          "data": {
            "text/html": [
              "<div>\n",
              "<style scoped>\n",
              "    .dataframe tbody tr th:only-of-type {\n",
              "        vertical-align: middle;\n",
              "    }\n",
              "\n",
              "    .dataframe tbody tr th {\n",
              "        vertical-align: top;\n",
              "    }\n",
              "\n",
              "    .dataframe thead th {\n",
              "        text-align: right;\n",
              "    }\n",
              "</style>\n",
              "<table border=\"1\" class=\"dataframe\">\n",
              "  <thead>\n",
              "    <tr style=\"text-align: right;\">\n",
              "      <th></th>\n",
              "      <th>price</th>\n",
              "      <th>feature1</th>\n",
              "      <th>feature2</th>\n",
              "    </tr>\n",
              "  </thead>\n",
              "  <tbody>\n",
              "    <tr>\n",
              "      <th>0</th>\n",
              "      <td>461.527929</td>\n",
              "      <td>999.787558</td>\n",
              "      <td>999.766096</td>\n",
              "    </tr>\n",
              "    <tr>\n",
              "      <th>1</th>\n",
              "      <td>548.130011</td>\n",
              "      <td>998.861615</td>\n",
              "      <td>1001.042403</td>\n",
              "    </tr>\n",
              "    <tr>\n",
              "      <th>2</th>\n",
              "      <td>410.297162</td>\n",
              "      <td>1000.070267</td>\n",
              "      <td>998.844015</td>\n",
              "    </tr>\n",
              "    <tr>\n",
              "      <th>3</th>\n",
              "      <td>540.382220</td>\n",
              "      <td>999.952251</td>\n",
              "      <td>1000.440940</td>\n",
              "    </tr>\n",
              "    <tr>\n",
              "      <th>4</th>\n",
              "      <td>546.024553</td>\n",
              "      <td>1000.446011</td>\n",
              "      <td>1000.338531</td>\n",
              "    </tr>\n",
              "  </tbody>\n",
              "</table>\n",
              "</div>"
            ],
            "text/plain": [
              "        price     feature1     feature2\n",
              "0  461.527929   999.787558   999.766096\n",
              "1  548.130011   998.861615  1001.042403\n",
              "2  410.297162  1000.070267   998.844015\n",
              "3  540.382220   999.952251  1000.440940\n",
              "4  546.024553  1000.446011  1000.338531"
            ]
          },
          "metadata": {},
          "execution_count": 3
        }
      ]
    },
    {
      "cell_type": "code",
      "metadata": {
        "colab": {
          "base_uri": "https://localhost:8080/"
        },
        "id": "vjaiYR9j7vzK",
        "outputId": "52e3df85-33d4-4aed-8f7e-1cb4a37edcd3"
      },
      "source": [
        "df.info()"
      ],
      "execution_count": null,
      "outputs": [
        {
          "output_type": "stream",
          "name": "stdout",
          "text": [
            "<class 'pandas.core.frame.DataFrame'>\n",
            "RangeIndex: 1000 entries, 0 to 999\n",
            "Data columns (total 3 columns):\n",
            " #   Column    Non-Null Count  Dtype  \n",
            "---  ------    --------------  -----  \n",
            " 0   price     1000 non-null   float64\n",
            " 1   feature1  1000 non-null   float64\n",
            " 2   feature2  1000 non-null   float64\n",
            "dtypes: float64(3)\n",
            "memory usage: 23.6 KB\n"
          ]
        }
      ]
    },
    {
      "cell_type": "code",
      "metadata": {
        "colab": {
          "base_uri": "https://localhost:8080/"
        },
        "id": "o0Mwf6kV7yyg",
        "outputId": "04066d8f-a353-4ba6-a439-3a47fe8e27db"
      },
      "source": [
        "df.isna().sum()"
      ],
      "execution_count": null,
      "outputs": [
        {
          "output_type": "execute_result",
          "data": {
            "text/plain": [
              "price       0\n",
              "feature1    0\n",
              "feature2    0\n",
              "dtype: int64"
            ]
          },
          "metadata": {},
          "execution_count": 5
        }
      ]
    },
    {
      "cell_type": "code",
      "metadata": {
        "colab": {
          "base_uri": "https://localhost:8080/",
          "height": 142
        },
        "id": "zfvvi2Zi71_w",
        "outputId": "3ed7723f-4869-40f0-d3dc-4ad9f5452ac0"
      },
      "source": [
        "df.corr()"
      ],
      "execution_count": null,
      "outputs": [
        {
          "output_type": "execute_result",
          "data": {
            "text/html": [
              "<div>\n",
              "<style scoped>\n",
              "    .dataframe tbody tr th:only-of-type {\n",
              "        vertical-align: middle;\n",
              "    }\n",
              "\n",
              "    .dataframe tbody tr th {\n",
              "        vertical-align: top;\n",
              "    }\n",
              "\n",
              "    .dataframe thead th {\n",
              "        text-align: right;\n",
              "    }\n",
              "</style>\n",
              "<table border=\"1\" class=\"dataframe\">\n",
              "  <thead>\n",
              "    <tr style=\"text-align: right;\">\n",
              "      <th></th>\n",
              "      <th>price</th>\n",
              "      <th>feature1</th>\n",
              "      <th>feature2</th>\n",
              "    </tr>\n",
              "  </thead>\n",
              "  <tbody>\n",
              "    <tr>\n",
              "      <th>price</th>\n",
              "      <td>1.000000</td>\n",
              "      <td>0.444190</td>\n",
              "      <td>0.907576</td>\n",
              "    </tr>\n",
              "    <tr>\n",
              "      <th>feature1</th>\n",
              "      <td>0.444190</td>\n",
              "      <td>1.000000</td>\n",
              "      <td>0.030607</td>\n",
              "    </tr>\n",
              "    <tr>\n",
              "      <th>feature2</th>\n",
              "      <td>0.907576</td>\n",
              "      <td>0.030607</td>\n",
              "      <td>1.000000</td>\n",
              "    </tr>\n",
              "  </tbody>\n",
              "</table>\n",
              "</div>"
            ],
            "text/plain": [
              "             price  feature1  feature2\n",
              "price     1.000000  0.444190  0.907576\n",
              "feature1  0.444190  1.000000  0.030607\n",
              "feature2  0.907576  0.030607  1.000000"
            ]
          },
          "metadata": {},
          "execution_count": 6
        }
      ]
    },
    {
      "cell_type": "code",
      "metadata": {
        "colab": {
          "base_uri": "https://localhost:8080/",
          "height": 567
        },
        "id": "8jISUryd73wQ",
        "outputId": "c203b04f-b813-44e7-c4fe-26ad317c165f"
      },
      "source": [
        "sns.pairplot(df)"
      ],
      "execution_count": null,
      "outputs": [
        {
          "output_type": "execute_result",
          "data": {
            "text/plain": [
              "<seaborn.axisgrid.PairGrid at 0x7f36695db550>"
            ]
          },
          "metadata": {},
          "execution_count": 7
        },
        {
          "output_type": "display_data",
          "data": {
            "image/png": "[encoded data removed]",
            "text/plain": [
              "<Figure size 540x540 with 12 Axes>"
            ]
          },
          "metadata": {
            "needs_background": "light"
          }
        }
      ]
    },
    {
      "cell_type": "code",
      "metadata": {
        "colab": {
          "base_uri": "https://localhost:8080/",
          "height": 100
        },
        "id": "E5aQZiWq8fyb",
        "outputId": "a32d2445-6143-4702-fd4c-18cced7c66d9"
      },
      "source": [
        "df.corr().style.background_gradient()"
      ],
      "execution_count": null,
      "outputs": [
        {
          "output_type": "execute_result",
          "data": {
            "text/html": [
              "<style  type=\"text/css\" >\n",
              "#T_b7ddb320_3618_11ec_96bd_0242ac1c0002row0_col0,#T_b7ddb320_3618_11ec_96bd_0242ac1c0002row1_col1,#T_b7ddb320_3618_11ec_96bd_0242ac1c0002row2_col2{\n",
              "            background-color:  #023858;\n",
              "            color:  #f1f1f1;\n",
              "        }#T_b7ddb320_3618_11ec_96bd_0242ac1c0002row0_col1{\n",
              "            background-color:  #91b5d6;\n",
              "            color:  #000000;\n",
              "        }#T_b7ddb320_3618_11ec_96bd_0242ac1c0002row0_col2{\n",
              "            background-color:  #045280;\n",
              "            color:  #f1f1f1;\n",
              "        }#T_b7ddb320_3618_11ec_96bd_0242ac1c0002row1_col0,#T_b7ddb320_3618_11ec_96bd_0242ac1c0002row1_col2,#T_b7ddb320_3618_11ec_96bd_0242ac1c0002row2_col1{\n",
              "            background-color:  #fff7fb;\n",
              "            color:  #000000;\n",
              "        }#T_b7ddb320_3618_11ec_96bd_0242ac1c0002row2_col0{\n",
              "            background-color:  #046198;\n",
              "            color:  #f1f1f1;\n",
              "        }</style><table id=\"T_b7ddb320_3618_11ec_96bd_0242ac1c0002\" ><thead>    <tr>        <th class=\"blank level0\" ></th>        <th class=\"col_heading level0 col0\" >price</th>        <th class=\"col_heading level0 col1\" >feature1</th>        <th class=\"col_heading level0 col2\" >feature2</th>    </tr></thead><tbody>\n",
              "                <tr>\n",
              "                        <th id=\"T_b7ddb320_3618_11ec_96bd_0242ac1c0002level0_row0\" class=\"row_heading level0 row0\" >price</th>\n",
              "                        <td id=\"T_b7ddb320_3618_11ec_96bd_0242ac1c0002row0_col0\" class=\"data row0 col0\" >1.000000</td>\n",
              "                        <td id=\"T_b7ddb320_3618_11ec_96bd_0242ac1c0002row0_col1\" class=\"data row0 col1\" >0.444190</td>\n",
              "                        <td id=\"T_b7ddb320_3618_11ec_96bd_0242ac1c0002row0_col2\" class=\"data row0 col2\" >0.907576</td>\n",
              "            </tr>\n",
              "            <tr>\n",
              "                        <th id=\"T_b7ddb320_3618_11ec_96bd_0242ac1c0002level0_row1\" class=\"row_heading level0 row1\" >feature1</th>\n",
              "                        <td id=\"T_b7ddb320_3618_11ec_96bd_0242ac1c0002row1_col0\" class=\"data row1 col0\" >0.444190</td>\n",
              "                        <td id=\"T_b7ddb320_3618_11ec_96bd_0242ac1c0002row1_col1\" class=\"data row1 col1\" >1.000000</td>\n",
              "                        <td id=\"T_b7ddb320_3618_11ec_96bd_0242ac1c0002row1_col2\" class=\"data row1 col2\" >0.030607</td>\n",
              "            </tr>\n",
              "            <tr>\n",
              "                        <th id=\"T_b7ddb320_3618_11ec_96bd_0242ac1c0002level0_row2\" class=\"row_heading level0 row2\" >feature2</th>\n",
              "                        <td id=\"T_b7ddb320_3618_11ec_96bd_0242ac1c0002row2_col0\" class=\"data row2 col0\" >0.907576</td>\n",
              "                        <td id=\"T_b7ddb320_3618_11ec_96bd_0242ac1c0002row2_col1\" class=\"data row2 col1\" >0.030607</td>\n",
              "                        <td id=\"T_b7ddb320_3618_11ec_96bd_0242ac1c0002row2_col2\" class=\"data row2 col2\" >1.000000</td>\n",
              "            </tr>\n",
              "    </tbody></table>"
            ],
            "text/plain": [
              "<pandas.io.formats.style.Styler at 0x7f3669cc4450>"
            ]
          },
          "metadata": {},
          "execution_count": 9
        }
      ]
    },
    {
      "cell_type": "code",
      "metadata": {
        "colab": {
          "base_uri": "https://localhost:8080/",
          "height": 286
        },
        "id": "nI9VMa2o8gEB",
        "outputId": "1e1d89d3-5fb2-42d9-d381-60b55f6c2996"
      },
      "source": [
        "sns.heatmap(df.corr(),annot=True,cmap='Blues')"
      ],
      "execution_count": null,
      "outputs": [
        {
          "output_type": "execute_result",
          "data": {
            "text/plain": [
              "<matplotlib.axes._subplots.AxesSubplot at 0x7f365b037910>"
            ]
          },
          "metadata": {},
          "execution_count": 10
        },
        {
          "output_type": "display_data",
          "data": {
            "image/png": "[encoded data removed]",
            "text/plain": [
              "<Figure size 432x288 with 2 Axes>"
            ]
          },
          "metadata": {
            "needs_background": "light"
          }
        }
      ]
    },
    {
      "cell_type": "code",
      "metadata": {
        "colab": {
          "base_uri": "https://localhost:8080/"
        },
        "id": "1_rX4v-18gWR",
        "outputId": "f1704136-c24b-4e9f-9791-2a2925987116"
      },
      "source": [
        "df.corr()['price'].sort_values()"
      ],
      "execution_count": null,
      "outputs": [
        {
          "output_type": "execute_result",
          "data": {
            "text/plain": [
              "feature1    0.444190\n",
              "feature2    0.907576\n",
              "price       1.000000\n",
              "Name: price, dtype: float64"
            ]
          },
          "metadata": {},
          "execution_count": 11
        }
      ]
    },
    {
      "cell_type": "code",
      "metadata": {
        "id": "p-fzqABi7--B"
      },
      "source": [
        "x=df.iloc[:,1:].values\n",
        "y=df.iloc[:,0].values"
      ],
      "execution_count": null,
      "outputs": []
    },
    {
      "cell_type": "code",
      "metadata": {
        "id": "6SFOvaBy8Vyo"
      },
      "source": [
        "from sklearn.preprocessing import StandardScaler\n",
        "sc=StandardScaler()\n",
        "x=sc.fit_transform(x)"
      ],
      "execution_count": null,
      "outputs": []
    },
    {
      "cell_type": "code",
      "metadata": {
        "id": "gG6yoDRM9VmZ"
      },
      "source": [
        "from sklearn.model_selection import train_test_split\n",
        "xtrain, xtest, ytrain, ytest = train_test_split(x,y, test_size=0.3, random_state=1)"
      ],
      "execution_count": null,
      "outputs": []
    },
    {
      "cell_type": "code",
      "metadata": {
        "id": "VodiRvkC9n7-"
      },
      "source": [
        "ann=Sequential()\n",
        "\n",
        "ann.add(Dense(units=4, activation=\"relu\"))\n",
        "ann.add(Dense(units=4, activation=\"relu\"))\n",
        "ann.add(Dense(units=4, activation=\"relu\"))\n",
        "ann.add(Dense(units=1))\n",
        "\n",
        "\n",
        "\n",
        "ann.compile(optimizer=\"rmsprop\",loss='mse')\n"
      ],
      "execution_count": null,
      "outputs": []
    },
    {
      "cell_type": "code",
      "metadata": {
        "colab": {
          "base_uri": "https://localhost:8080/"
        },
        "id": "wxKWiXLi-Kgg",
        "outputId": "736348be-918f-4ed5-977f-34e7e9b89f8e"
      },
      "source": [
        "ann.fit(xtrain,ytrain,epochs=250)"
      ],
      "execution_count": null,
      "outputs": [
        {
          "output_type": "stream",
          "name": "stdout",
          "text": [
            "Epoch 1/250\n",
            "22/22 [==============================] - 1s 1ms/step - loss: 255804.9844\n",
            "Epoch 2/250\n",
            "22/22 [==============================] - 0s 1ms/step - loss: 255638.7031\n",
            "Epoch 3/250\n",
            "22/22 [==============================] - 0s 1ms/step - loss: 255492.5000\n",
            "Epoch 4/250\n",
            "22/22 [==============================] - 0s 1ms/step - loss: 255340.0625\n",
            "Epoch 5/250\n",
            "22/22 [==============================] - 0s 1ms/step - loss: 255182.2656\n",
            "Epoch 6/250\n",
            "22/22 [==============================] - 0s 2ms/step - loss: 255023.3594\n",
            "Epoch 7/250\n",
            "22/22 [==============================] - 0s 1ms/step - loss: 254860.0469\n",
            "Epoch 8/250\n",
            "22/22 [==============================] - 0s 1ms/step - loss: 254682.5312\n",
            "Epoch 9/250\n",
            "22/22 [==============================] - 0s 1ms/step - loss: 254487.4219\n",
            "Epoch 10/250\n",
            "22/22 [==============================] - 0s 1ms/step - loss: 254275.1094\n",
            "Epoch 11/250\n",
            "22/22 [==============================] - 0s 1ms/step - loss: 254041.7344\n",
            "Epoch 12/250\n",
            "22/22 [==============================] - 0s 1ms/step - loss: 253783.3594\n",
            "Epoch 13/250\n",
            "22/22 [==============================] - 0s 1ms/step - loss: 253504.3438\n",
            "Epoch 14/250\n",
            "22/22 [==============================] - 0s 1ms/step - loss: 253198.7656\n",
            "Epoch 15/250\n",
            "22/22 [==============================] - 0s 1ms/step - loss: 252862.9688\n",
            "Epoch 16/250\n",
            "22/22 [==============================] - 0s 1ms/step - loss: 252492.6875\n",
            "Epoch 17/250\n",
            "22/22 [==============================] - 0s 1ms/step - loss: 252092.5312\n",
            "Epoch 18/250\n",
            "22/22 [==============================] - 0s 1ms/step - loss: 251655.0469\n",
            "Epoch 19/250\n",
            "22/22 [==============================] - 0s 2ms/step - loss: 251179.1094\n",
            "Epoch 20/250\n",
            "22/22 [==============================] - 0s 1ms/step - loss: 250664.9219\n",
            "Epoch 21/250\n",
            "22/22 [==============================] - 0s 1ms/step - loss: 250100.9844\n",
            "Epoch 22/250\n",
            "22/22 [==============================] - 0s 1ms/step - loss: 249489.1719\n",
            "Epoch 23/250\n",
            "22/22 [==============================] - 0s 1ms/step - loss: 248835.1094\n",
            "Epoch 24/250\n",
            "22/22 [==============================] - 0s 1ms/step - loss: 248125.2344\n",
            "Epoch 25/250\n",
            "22/22 [==============================] - 0s 1ms/step - loss: 247357.4219\n",
            "Epoch 26/250\n",
            "22/22 [==============================] - 0s 1ms/step - loss: 246527.1094\n",
            "Epoch 27/250\n",
            "22/22 [==============================] - 0s 1ms/step - loss: 245635.6562\n",
            "Epoch 28/250\n",
            "22/22 [==============================] - 0s 1ms/step - loss: 244684.5781\n",
            "Epoch 29/250\n",
            "22/22 [==============================] - 0s 1ms/step - loss: 243666.8750\n",
            "Epoch 30/250\n",
            "22/22 [==============================] - 0s 1ms/step - loss: 242592.8281\n",
            "Epoch 31/250\n",
            "22/22 [==============================] - 0s 1ms/step - loss: 241440.9531\n",
            "Epoch 32/250\n",
            "22/22 [==============================] - 0s 1ms/step - loss: 240219.2031\n",
            "Epoch 33/250\n",
            "22/22 [==============================] - 0s 1ms/step - loss: 238930.2656\n",
            "Epoch 34/250\n",
            "22/22 [==============================] - 0s 1ms/step - loss: 237559.4688\n",
            "Epoch 35/250\n",
            "22/22 [==============================] - 0s 1ms/step - loss: 236102.4531\n",
            "Epoch 36/250\n",
            "22/22 [==============================] - 0s 1ms/step - loss: 234559.5469\n",
            "Epoch 37/250\n",
            "22/22 [==============================] - 0s 1ms/step - loss: 232937.2969\n",
            "Epoch 38/250\n",
            "22/22 [==============================] - 0s 1ms/step - loss: 231229.6406\n",
            "Epoch 39/250\n",
            "22/22 [==============================] - 0s 1ms/step - loss: 229441.6250\n",
            "Epoch 40/250\n",
            "22/22 [==============================] - 0s 1ms/step - loss: 227539.4688\n",
            "Epoch 41/250\n",
            "22/22 [==============================] - 0s 1ms/step - loss: 225555.6094\n",
            "Epoch 42/250\n",
            "22/22 [==============================] - 0s 1ms/step - loss: 223467.8438\n",
            "Epoch 43/250\n",
            "22/22 [==============================] - 0s 1ms/step - loss: 221286.5625\n",
            "Epoch 44/250\n",
            "22/22 [==============================] - 0s 1ms/step - loss: 219029.3906\n",
            "Epoch 45/250\n",
            "22/22 [==============================] - 0s 1ms/step - loss: 216647.9062\n",
            "Epoch 46/250\n",
            "22/22 [==============================] - 0s 1ms/step - loss: 214155.1250\n",
            "Epoch 47/250\n",
            "22/22 [==============================] - 0s 1ms/step - loss: 211559.6875\n",
            "Epoch 48/250\n",
            "22/22 [==============================] - 0s 2ms/step - loss: 208876.3906\n",
            "Epoch 49/250\n",
            "22/22 [==============================] - 0s 1ms/step - loss: 206059.5938\n",
            "Epoch 50/250\n",
            "22/22 [==============================] - 0s 1ms/step - loss: 203162.0156\n",
            "Epoch 51/250\n",
            "22/22 [==============================] - 0s 1ms/step - loss: 200132.6406\n",
            "Epoch 52/250\n",
            "22/22 [==============================] - 0s 2ms/step - loss: 196985.4375\n",
            "Epoch 53/250\n",
            "22/22 [==============================] - 0s 1ms/step - loss: 193763.5156\n",
            "Epoch 54/250\n",
            "22/22 [==============================] - 0s 1ms/step - loss: 190419.4375\n",
            "Epoch 55/250\n",
            "22/22 [==============================] - 0s 1ms/step - loss: 186968.9531\n",
            "Epoch 56/250\n",
            "22/22 [==============================] - 0s 1ms/step - loss: 183408.2031\n",
            "Epoch 57/250\n",
            "22/22 [==============================] - 0s 2ms/step - loss: 179754.3125\n",
            "Epoch 58/250\n",
            "22/22 [==============================] - 0s 1ms/step - loss: 176011.9062\n",
            "Epoch 59/250\n",
            "22/22 [==============================] - 0s 1ms/step - loss: 172167.7188\n",
            "Epoch 60/250\n",
            "22/22 [==============================] - 0s 1ms/step - loss: 168217.2188\n",
            "Epoch 61/250\n",
            "22/22 [==============================] - 0s 1ms/step - loss: 164181.3594\n",
            "Epoch 62/250\n",
            "22/22 [==============================] - 0s 1ms/step - loss: 160066.4844\n",
            "Epoch 63/250\n",
            "22/22 [==============================] - 0s 1ms/step - loss: 155863.9531\n",
            "Epoch 64/250\n",
            "22/22 [==============================] - 0s 1ms/step - loss: 151578.0938\n",
            "Epoch 65/250\n",
            "22/22 [==============================] - 0s 1ms/step - loss: 147241.6875\n",
            "Epoch 66/250\n",
            "22/22 [==============================] - 0s 1ms/step - loss: 142838.0781\n",
            "Epoch 67/250\n",
            "22/22 [==============================] - 0s 1ms/step - loss: 138355.6406\n",
            "Epoch 68/250\n",
            "22/22 [==============================] - 0s 1ms/step - loss: 133839.8906\n",
            "Epoch 69/250\n",
            "22/22 [==============================] - 0s 1ms/step - loss: 129286.4609\n",
            "Epoch 70/250\n",
            "22/22 [==============================] - 0s 1ms/step - loss: 124693.3516\n",
            "Epoch 71/250\n",
            "22/22 [==============================] - 0s 1ms/step - loss: 120069.4844\n",
            "Epoch 72/250\n",
            "22/22 [==============================] - 0s 1ms/step - loss: 115431.8281\n",
            "Epoch 73/250\n",
            "22/22 [==============================] - 0s 1ms/step - loss: 110794.5703\n",
            "Epoch 74/250\n",
            "22/22 [==============================] - 0s 2ms/step - loss: 106182.7578\n",
            "Epoch 75/250\n",
            "22/22 [==============================] - 0s 1ms/step - loss: 101602.5938\n",
            "Epoch 76/250\n",
            "22/22 [==============================] - 0s 1ms/step - loss: 97021.3594\n",
            "Epoch 77/250\n",
            "22/22 [==============================] - 0s 1ms/step - loss: 92504.2422\n",
            "Epoch 78/250\n",
            "22/22 [==============================] - 0s 2ms/step - loss: 88028.0547\n",
            "Epoch 79/250\n",
            "22/22 [==============================] - 0s 1ms/step - loss: 83650.5000\n",
            "Epoch 80/250\n",
            "22/22 [==============================] - 0s 1ms/step - loss: 79352.3203\n",
            "Epoch 81/250\n",
            "22/22 [==============================] - 0s 1ms/step - loss: 75103.3281\n",
            "Epoch 82/250\n",
            "22/22 [==============================] - 0s 2ms/step - loss: 70870.5469\n",
            "Epoch 83/250\n",
            "22/22 [==============================] - 0s 1ms/step - loss: 66795.1406\n",
            "Epoch 84/250\n",
            "22/22 [==============================] - 0s 1ms/step - loss: 62860.2734\n",
            "Epoch 85/250\n",
            "22/22 [==============================] - 0s 2ms/step - loss: 59025.7891\n",
            "Epoch 86/250\n",
            "22/22 [==============================] - 0s 1ms/step - loss: 55268.0781\n",
            "Epoch 87/250\n",
            "22/22 [==============================] - 0s 1ms/step - loss: 51705.7539\n",
            "Epoch 88/250\n",
            "22/22 [==============================] - 0s 1ms/step - loss: 48340.1992\n",
            "Epoch 89/250\n",
            "22/22 [==============================] - 0s 1ms/step - loss: 45129.6641\n",
            "Epoch 90/250\n",
            "22/22 [==============================] - 0s 1ms/step - loss: 42088.7812\n",
            "Epoch 91/250\n",
            "22/22 [==============================] - 0s 2ms/step - loss: 39216.1523\n",
            "Epoch 92/250\n",
            "22/22 [==============================] - 0s 1ms/step - loss: 36554.2344\n",
            "Epoch 93/250\n",
            "22/22 [==============================] - 0s 1ms/step - loss: 34081.3789\n",
            "Epoch 94/250\n",
            "22/22 [==============================] - 0s 2ms/step - loss: 31816.9609\n",
            "Epoch 95/250\n",
            "22/22 [==============================] - 0s 1ms/step - loss: 29783.5020\n",
            "Epoch 96/250\n",
            "22/22 [==============================] - 0s 1ms/step - loss: 27914.5312\n",
            "Epoch 97/250\n",
            "22/22 [==============================] - 0s 1ms/step - loss: 26206.3105\n",
            "Epoch 98/250\n",
            "22/22 [==============================] - 0s 1ms/step - loss: 24619.5605\n",
            "Epoch 99/250\n",
            "22/22 [==============================] - 0s 1ms/step - loss: 23180.6953\n",
            "Epoch 100/250\n",
            "22/22 [==============================] - 0s 1ms/step - loss: 21800.3789\n",
            "Epoch 101/250\n",
            "22/22 [==============================] - 0s 1ms/step - loss: 20491.8203\n",
            "Epoch 102/250\n",
            "22/22 [==============================] - 0s 1ms/step - loss: 19266.7578\n",
            "Epoch 103/250\n",
            "22/22 [==============================] - 0s 1ms/step - loss: 18151.4629\n",
            "Epoch 104/250\n",
            "22/22 [==============================] - 0s 1ms/step - loss: 17102.1602\n",
            "Epoch 105/250\n",
            "22/22 [==============================] - 0s 1ms/step - loss: 16069.7510\n",
            "Epoch 106/250\n",
            "22/22 [==============================] - 0s 1ms/step - loss: 15059.3145\n",
            "Epoch 107/250\n",
            "22/22 [==============================] - 0s 2ms/step - loss: 14142.4531\n",
            "Epoch 108/250\n",
            "22/22 [==============================] - 0s 1ms/step - loss: 13281.3213\n",
            "Epoch 109/250\n",
            "22/22 [==============================] - 0s 1ms/step - loss: 12448.6904\n",
            "Epoch 110/250\n",
            "22/22 [==============================] - 0s 1ms/step - loss: 11670.4883\n",
            "Epoch 111/250\n",
            "22/22 [==============================] - 0s 2ms/step - loss: 10920.7412\n",
            "Epoch 112/250\n",
            "22/22 [==============================] - 0s 1ms/step - loss: 10204.9863\n",
            "Epoch 113/250\n",
            "22/22 [==============================] - 0s 1ms/step - loss: 9558.7305\n",
            "Epoch 114/250\n",
            "22/22 [==============================] - 0s 1ms/step - loss: 8932.4668\n",
            "Epoch 115/250\n",
            "22/22 [==============================] - 0s 1ms/step - loss: 8336.9824\n",
            "Epoch 116/250\n",
            "22/22 [==============================] - 0s 1ms/step - loss: 7780.2437\n",
            "Epoch 117/250\n",
            "22/22 [==============================] - 0s 1ms/step - loss: 7279.3223\n",
            "Epoch 118/250\n",
            "22/22 [==============================] - 0s 1ms/step - loss: 6819.8784\n",
            "Epoch 119/250\n",
            "22/22 [==============================] - 0s 1ms/step - loss: 6401.1128\n",
            "Epoch 120/250\n",
            "22/22 [==============================] - 0s 2ms/step - loss: 6026.8770\n",
            "Epoch 121/250\n",
            "22/22 [==============================] - 0s 1ms/step - loss: 5691.2495\n",
            "Epoch 122/250\n",
            "22/22 [==============================] - 0s 1ms/step - loss: 5361.4448\n",
            "Epoch 123/250\n",
            "22/22 [==============================] - 0s 1ms/step - loss: 5058.9087\n",
            "Epoch 124/250\n",
            "22/22 [==============================] - 0s 1ms/step - loss: 4794.9907\n",
            "Epoch 125/250\n",
            "22/22 [==============================] - 0s 2ms/step - loss: 4543.6973\n",
            "Epoch 126/250\n",
            "22/22 [==============================] - 0s 1ms/step - loss: 4309.4038\n",
            "Epoch 127/250\n",
            "22/22 [==============================] - 0s 1ms/step - loss: 4092.0518\n",
            "Epoch 128/250\n",
            "22/22 [==============================] - 0s 1ms/step - loss: 3892.1243\n",
            "Epoch 129/250\n",
            "22/22 [==============================] - 0s 1ms/step - loss: 3696.2107\n",
            "Epoch 130/250\n",
            "22/22 [==============================] - 0s 1ms/step - loss: 3514.9954\n",
            "Epoch 131/250\n",
            "22/22 [==============================] - 0s 2ms/step - loss: 3344.3657\n",
            "Epoch 132/250\n",
            "22/22 [==============================] - 0s 2ms/step - loss: 3189.4885\n",
            "Epoch 133/250\n",
            "22/22 [==============================] - 0s 1ms/step - loss: 3035.8943\n",
            "Epoch 134/250\n",
            "22/22 [==============================] - 0s 1ms/step - loss: 2889.2085\n",
            "Epoch 135/250\n",
            "22/22 [==============================] - 0s 2ms/step - loss: 2740.6399\n",
            "Epoch 136/250\n",
            "22/22 [==============================] - 0s 1ms/step - loss: 2599.9202\n",
            "Epoch 137/250\n",
            "22/22 [==============================] - 0s 1ms/step - loss: 2477.3743\n",
            "Epoch 138/250\n",
            "22/22 [==============================] - 0s 1ms/step - loss: 2354.5342\n",
            "Epoch 139/250\n",
            "22/22 [==============================] - 0s 1ms/step - loss: 2234.9629\n",
            "Epoch 140/250\n",
            "22/22 [==============================] - 0s 1ms/step - loss: 2126.4102\n",
            "Epoch 141/250\n",
            "22/22 [==============================] - 0s 1ms/step - loss: 2022.5370\n",
            "Epoch 142/250\n",
            "22/22 [==============================] - 0s 1ms/step - loss: 1918.8147\n",
            "Epoch 143/250\n",
            "22/22 [==============================] - 0s 2ms/step - loss: 1816.1544\n",
            "Epoch 144/250\n",
            "22/22 [==============================] - 0s 1ms/step - loss: 1717.3041\n",
            "Epoch 145/250\n",
            "22/22 [==============================] - 0s 1ms/step - loss: 1627.4459\n",
            "Epoch 146/250\n",
            "22/22 [==============================] - 0s 1ms/step - loss: 1542.5490\n",
            "Epoch 147/250\n",
            "22/22 [==============================] - 0s 1ms/step - loss: 1463.8202\n",
            "Epoch 148/250\n",
            "22/22 [==============================] - 0s 2ms/step - loss: 1383.7345\n",
            "Epoch 149/250\n",
            "22/22 [==============================] - 0s 1ms/step - loss: 1313.9500\n",
            "Epoch 150/250\n",
            "22/22 [==============================] - 0s 1ms/step - loss: 1245.7924\n",
            "Epoch 151/250\n",
            "22/22 [==============================] - 0s 2ms/step - loss: 1182.2551\n",
            "Epoch 152/250\n",
            "22/22 [==============================] - 0s 1ms/step - loss: 1120.6488\n",
            "Epoch 153/250\n",
            "22/22 [==============================] - 0s 1ms/step - loss: 1059.9604\n",
            "Epoch 154/250\n",
            "22/22 [==============================] - 0s 1ms/step - loss: 1001.7548\n",
            "Epoch 155/250\n",
            "22/22 [==============================] - 0s 1ms/step - loss: 949.0014\n",
            "Epoch 156/250\n",
            "22/22 [==============================] - 0s 1ms/step - loss: 894.9425\n",
            "Epoch 157/250\n",
            "22/22 [==============================] - 0s 1ms/step - loss: 846.9718\n",
            "Epoch 158/250\n",
            "22/22 [==============================] - 0s 2ms/step - loss: 797.5580\n",
            "Epoch 159/250\n",
            "22/22 [==============================] - 0s 2ms/step - loss: 759.5403\n",
            "Epoch 160/250\n",
            "22/22 [==============================] - 0s 1ms/step - loss: 719.0018\n",
            "Epoch 161/250\n",
            "22/22 [==============================] - 0s 1ms/step - loss: 679.4567\n",
            "Epoch 162/250\n",
            "22/22 [==============================] - 0s 1ms/step - loss: 642.1495\n",
            "Epoch 163/250\n",
            "22/22 [==============================] - 0s 1ms/step - loss: 606.7979\n",
            "Epoch 164/250\n",
            "22/22 [==============================] - 0s 1ms/step - loss: 571.2279\n",
            "Epoch 165/250\n",
            "22/22 [==============================] - 0s 2ms/step - loss: 537.9094\n",
            "Epoch 166/250\n",
            "22/22 [==============================] - 0s 2ms/step - loss: 507.6748\n",
            "Epoch 167/250\n",
            "22/22 [==============================] - 0s 1ms/step - loss: 478.8947\n",
            "Epoch 168/250\n",
            "22/22 [==============================] - 0s 2ms/step - loss: 451.0392\n",
            "Epoch 169/250\n",
            "22/22 [==============================] - 0s 1ms/step - loss: 426.2184\n",
            "Epoch 170/250\n",
            "22/22 [==============================] - 0s 1ms/step - loss: 403.5205\n",
            "Epoch 171/250\n",
            "22/22 [==============================] - 0s 2ms/step - loss: 378.7322\n",
            "Epoch 172/250\n",
            "22/22 [==============================] - 0s 1ms/step - loss: 357.0954\n",
            "Epoch 173/250\n",
            "22/22 [==============================] - 0s 1ms/step - loss: 338.4467\n",
            "Epoch 174/250\n",
            "22/22 [==============================] - 0s 1ms/step - loss: 320.6968\n",
            "Epoch 175/250\n",
            "22/22 [==============================] - 0s 1ms/step - loss: 304.3100\n",
            "Epoch 176/250\n",
            "22/22 [==============================] - 0s 1ms/step - loss: 287.9629\n",
            "Epoch 177/250\n",
            "22/22 [==============================] - 0s 1ms/step - loss: 273.0382\n",
            "Epoch 178/250\n",
            "22/22 [==============================] - 0s 1ms/step - loss: 259.3497\n",
            "Epoch 179/250\n",
            "22/22 [==============================] - 0s 1ms/step - loss: 245.7558\n",
            "Epoch 180/250\n",
            "22/22 [==============================] - 0s 1ms/step - loss: 231.3084\n",
            "Epoch 181/250\n",
            "22/22 [==============================] - 0s 2ms/step - loss: 219.4292\n",
            "Epoch 182/250\n",
            "22/22 [==============================] - 0s 2ms/step - loss: 207.5914\n",
            "Epoch 183/250\n",
            "22/22 [==============================] - 0s 2ms/step - loss: 196.6331\n",
            "Epoch 184/250\n",
            "22/22 [==============================] - 0s 1ms/step - loss: 187.7814\n",
            "Epoch 185/250\n",
            "22/22 [==============================] - 0s 2ms/step - loss: 178.4586\n",
            "Epoch 186/250\n",
            "22/22 [==============================] - 0s 1ms/step - loss: 170.3251\n",
            "Epoch 187/250\n",
            "22/22 [==============================] - 0s 1ms/step - loss: 162.1824\n",
            "Epoch 188/250\n",
            "22/22 [==============================] - 0s 2ms/step - loss: 153.9196\n",
            "Epoch 189/250\n",
            "22/22 [==============================] - 0s 1ms/step - loss: 146.4079\n",
            "Epoch 190/250\n",
            "22/22 [==============================] - 0s 1ms/step - loss: 138.9486\n",
            "Epoch 191/250\n",
            "22/22 [==============================] - 0s 1ms/step - loss: 132.7366\n",
            "Epoch 192/250\n",
            "22/22 [==============================] - 0s 1ms/step - loss: 126.4598\n",
            "Epoch 193/250\n",
            "22/22 [==============================] - 0s 2ms/step - loss: 119.6587\n",
            "Epoch 194/250\n",
            "22/22 [==============================] - 0s 1ms/step - loss: 114.0170\n",
            "Epoch 195/250\n",
            "22/22 [==============================] - 0s 1ms/step - loss: 108.1512\n",
            "Epoch 196/250\n",
            "22/22 [==============================] - 0s 2ms/step - loss: 103.3864\n",
            "Epoch 197/250\n",
            "22/22 [==============================] - 0s 1ms/step - loss: 99.3599\n",
            "Epoch 198/250\n",
            "22/22 [==============================] - 0s 1ms/step - loss: 95.6340\n",
            "Epoch 199/250\n",
            "22/22 [==============================] - 0s 1ms/step - loss: 91.7300\n",
            "Epoch 200/250\n",
            "22/22 [==============================] - 0s 1ms/step - loss: 88.3224\n",
            "Epoch 201/250\n",
            "22/22 [==============================] - 0s 1ms/step - loss: 84.3130\n",
            "Epoch 202/250\n",
            "22/22 [==============================] - 0s 1ms/step - loss: 81.3097\n",
            "Epoch 203/250\n",
            "22/22 [==============================] - 0s 1ms/step - loss: 78.1165\n",
            "Epoch 204/250\n",
            "22/22 [==============================] - 0s 1ms/step - loss: 74.7235\n",
            "Epoch 205/250\n",
            "22/22 [==============================] - 0s 1ms/step - loss: 71.5815\n",
            "Epoch 206/250\n",
            "22/22 [==============================] - 0s 2ms/step - loss: 69.5619\n",
            "Epoch 207/250\n",
            "22/22 [==============================] - 0s 1ms/step - loss: 66.2907\n",
            "Epoch 208/250\n",
            "22/22 [==============================] - 0s 1ms/step - loss: 64.3741\n",
            "Epoch 209/250\n",
            "22/22 [==============================] - 0s 1ms/step - loss: 61.7100\n",
            "Epoch 210/250\n",
            "22/22 [==============================] - 0s 1ms/step - loss: 59.6794\n",
            "Epoch 211/250\n",
            "22/22 [==============================] - 0s 2ms/step - loss: 57.7751\n",
            "Epoch 212/250\n",
            "22/22 [==============================] - 0s 1ms/step - loss: 55.4791\n",
            "Epoch 213/250\n",
            "22/22 [==============================] - 0s 1ms/step - loss: 53.9008\n",
            "Epoch 214/250\n",
            "22/22 [==============================] - 0s 1ms/step - loss: 52.1469\n",
            "Epoch 215/250\n",
            "22/22 [==============================] - 0s 1ms/step - loss: 50.7980\n",
            "Epoch 216/250\n",
            "22/22 [==============================] - 0s 1ms/step - loss: 48.9324\n",
            "Epoch 217/250\n",
            "22/22 [==============================] - 0s 2ms/step - loss: 47.4136\n",
            "Epoch 218/250\n",
            "22/22 [==============================] - 0s 2ms/step - loss: 45.9481\n",
            "Epoch 219/250\n",
            "22/22 [==============================] - 0s 1ms/step - loss: 45.1968\n",
            "Epoch 220/250\n",
            "22/22 [==============================] - 0s 1ms/step - loss: 43.8288\n",
            "Epoch 221/250\n",
            "22/22 [==============================] - 0s 2ms/step - loss: 42.8954\n",
            "Epoch 222/250\n",
            "22/22 [==============================] - 0s 1ms/step - loss: 42.0441\n",
            "Epoch 223/250\n",
            "22/22 [==============================] - 0s 1ms/step - loss: 41.2350\n",
            "Epoch 224/250\n",
            "22/22 [==============================] - 0s 1ms/step - loss: 40.5318\n",
            "Epoch 225/250\n",
            "22/22 [==============================] - 0s 2ms/step - loss: 39.5600\n",
            "Epoch 226/250\n",
            "22/22 [==============================] - 0s 1ms/step - loss: 39.0093\n",
            "Epoch 227/250\n",
            "22/22 [==============================] - 0s 1ms/step - loss: 38.3321\n",
            "Epoch 228/250\n",
            "22/22 [==============================] - 0s 1ms/step - loss: 37.6287\n",
            "Epoch 229/250\n",
            "22/22 [==============================] - 0s 2ms/step - loss: 37.2152\n",
            "Epoch 230/250\n",
            "22/22 [==============================] - 0s 2ms/step - loss: 36.6785\n",
            "Epoch 231/250\n",
            "22/22 [==============================] - 0s 1ms/step - loss: 35.7729\n",
            "Epoch 232/250\n",
            "22/22 [==============================] - 0s 1ms/step - loss: 35.5243\n",
            "Epoch 233/250\n",
            "22/22 [==============================] - 0s 2ms/step - loss: 35.3013\n",
            "Epoch 234/250\n",
            "22/22 [==============================] - 0s 1ms/step - loss: 34.6314\n",
            "Epoch 235/250\n",
            "22/22 [==============================] - 0s 2ms/step - loss: 34.2771\n",
            "Epoch 236/250\n",
            "22/22 [==============================] - 0s 1ms/step - loss: 33.9060\n",
            "Epoch 237/250\n",
            "22/22 [==============================] - 0s 1ms/step - loss: 33.2254\n",
            "Epoch 238/250\n",
            "22/22 [==============================] - 0s 1ms/step - loss: 32.8029\n",
            "Epoch 239/250\n",
            "22/22 [==============================] - 0s 1ms/step - loss: 32.5040\n",
            "Epoch 240/250\n",
            "22/22 [==============================] - 0s 1ms/step - loss: 32.1223\n",
            "Epoch 241/250\n",
            "22/22 [==============================] - 0s 1ms/step - loss: 31.9466\n",
            "Epoch 242/250\n",
            "22/22 [==============================] - 0s 1ms/step - loss: 31.6995\n",
            "Epoch 243/250\n",
            "22/22 [==============================] - 0s 2ms/step - loss: 31.4061\n",
            "Epoch 244/250\n",
            "22/22 [==============================] - 0s 1ms/step - loss: 31.1070\n",
            "Epoch 245/250\n",
            "22/22 [==============================] - 0s 1ms/step - loss: 30.7751\n",
            "Epoch 246/250\n",
            "22/22 [==============================] - 0s 1ms/step - loss: 30.5733\n",
            "Epoch 247/250\n",
            "22/22 [==============================] - 0s 1ms/step - loss: 30.3865\n",
            "Epoch 248/250\n",
            "22/22 [==============================] - 0s 1ms/step - loss: 30.2302\n",
            "Epoch 249/250\n",
            "22/22 [==============================] - 0s 2ms/step - loss: 29.9003\n",
            "Epoch 250/250\n",
            "22/22 [==============================] - 0s 1ms/step - loss: 29.7148\n"
          ]
        },
        {
          "output_type": "execute_result",
          "data": {
            "text/plain": [
              "<keras.callbacks.History at 0x7f365577e390>"
            ]
          },
          "metadata": {},
          "execution_count": 16
        }
      ]
    },
    {
      "cell_type": "code",
      "metadata": {
        "colab": {
          "base_uri": "https://localhost:8080/",
          "height": 203
        },
        "id": "BGKoyzVH-lUv",
        "outputId": "6ff1ff21-f53f-4fc9-ec30-a551bfe989f5"
      },
      "source": [
        "loss=pd.DataFrame(ann.history.history)\n",
        "loss.head()"
      ],
      "execution_count": null,
      "outputs": [
        {
          "output_type": "execute_result",
          "data": {
            "text/html": [
              "<div>\n",
              "<style scoped>\n",
              "    .dataframe tbody tr th:only-of-type {\n",
              "        vertical-align: middle;\n",
              "    }\n",
              "\n",
              "    .dataframe tbody tr th {\n",
              "        vertical-align: top;\n",
              "    }\n",
              "\n",
              "    .dataframe thead th {\n",
              "        text-align: right;\n",
              "    }\n",
              "</style>\n",
              "<table border=\"1\" class=\"dataframe\">\n",
              "  <thead>\n",
              "    <tr style=\"text-align: right;\">\n",
              "      <th></th>\n",
              "      <th>loss</th>\n",
              "    </tr>\n",
              "  </thead>\n",
              "  <tbody>\n",
              "    <tr>\n",
              "      <th>0</th>\n",
              "      <td>255804.984375</td>\n",
              "    </tr>\n",
              "    <tr>\n",
              "      <th>1</th>\n",
              "      <td>255638.703125</td>\n",
              "    </tr>\n",
              "    <tr>\n",
              "      <th>2</th>\n",
              "      <td>255492.500000</td>\n",
              "    </tr>\n",
              "    <tr>\n",
              "      <th>3</th>\n",
              "      <td>255340.062500</td>\n",
              "    </tr>\n",
              "    <tr>\n",
              "      <th>4</th>\n",
              "      <td>255182.265625</td>\n",
              "    </tr>\n",
              "  </tbody>\n",
              "</table>\n",
              "</div>"
            ],
            "text/plain": [
              "            loss\n",
              "0  255804.984375\n",
              "1  255638.703125\n",
              "2  255492.500000\n",
              "3  255340.062500\n",
              "4  255182.265625"
            ]
          },
          "metadata": {},
          "execution_count": 17
        }
      ]
    },
    {
      "cell_type": "code",
      "metadata": {
        "colab": {
          "base_uri": "https://localhost:8080/",
          "height": 203
        },
        "id": "2BNjQUJv-_iI",
        "outputId": "1cb9f558-4413-4dca-db21-97db30355eeb"
      },
      "source": [
        "loss.tail()"
      ],
      "execution_count": null,
      "outputs": [
        {
          "output_type": "execute_result",
          "data": {
            "text/html": [
              "<div>\n",
              "<style scoped>\n",
              "    .dataframe tbody tr th:only-of-type {\n",
              "        vertical-align: middle;\n",
              "    }\n",
              "\n",
              "    .dataframe tbody tr th {\n",
              "        vertical-align: top;\n",
              "    }\n",
              "\n",
              "    .dataframe thead th {\n",
              "        text-align: right;\n",
              "    }\n",
              "</style>\n",
              "<table border=\"1\" class=\"dataframe\">\n",
              "  <thead>\n",
              "    <tr style=\"text-align: right;\">\n",
              "      <th></th>\n",
              "      <th>loss</th>\n",
              "    </tr>\n",
              "  </thead>\n",
              "  <tbody>\n",
              "    <tr>\n",
              "      <th>245</th>\n",
              "      <td>30.573334</td>\n",
              "    </tr>\n",
              "    <tr>\n",
              "      <th>246</th>\n",
              "      <td>30.386539</td>\n",
              "    </tr>\n",
              "    <tr>\n",
              "      <th>247</th>\n",
              "      <td>30.230206</td>\n",
              "    </tr>\n",
              "    <tr>\n",
              "      <th>248</th>\n",
              "      <td>29.900305</td>\n",
              "    </tr>\n",
              "    <tr>\n",
              "      <th>249</th>\n",
              "      <td>29.714813</td>\n",
              "    </tr>\n",
              "  </tbody>\n",
              "</table>\n",
              "</div>"
            ],
            "text/plain": [
              "          loss\n",
              "245  30.573334\n",
              "246  30.386539\n",
              "247  30.230206\n",
              "248  29.900305\n",
              "249  29.714813"
            ]
          },
          "metadata": {},
          "execution_count": 18
        }
      ]
    },
    {
      "cell_type": "code",
      "metadata": {
        "colab": {
          "base_uri": "https://localhost:8080/",
          "height": 282
        },
        "id": "sXD99v-J_BzQ",
        "outputId": "a4c11638-16d0-4fea-afaa-c345656ff4ef"
      },
      "source": [
        "loss.plot()"
      ],
      "execution_count": null,
      "outputs": [
        {
          "output_type": "execute_result",
          "data": {
            "text/plain": [
              "<matplotlib.axes._subplots.AxesSubplot at 0x7f36557d8fd0>"
            ]
          },
          "metadata": {},
          "execution_count": 19
        },
        {
          "output_type": "display_data",
          "data": {
            "image/png": "[encoded data removed]",
            "text/plain": [
              "<Figure size 432x288 with 1 Axes>"
            ]
          },
          "metadata": {
            "needs_background": "light"
          }
        }
      ]
    },
    {
      "cell_type": "code",
      "metadata": {
        "colab": {
          "base_uri": "https://localhost:8080/"
        },
        "id": "lxqNPqPH_D8N",
        "outputId": "ae066d39-4003-45ba-f1a9-5dc659ccc1a0"
      },
      "source": [
        "ann.evaluate(xtrain,ytrain)"
      ],
      "execution_count": null,
      "outputs": [
        {
          "output_type": "stream",
          "name": "stdout",
          "text": [
            "22/22 [==============================] - 0s 993us/step - loss: 29.1053\n"
          ]
        },
        {
          "output_type": "execute_result",
          "data": {
            "text/plain": [
              "29.105323791503906"
            ]
          },
          "metadata": {},
          "execution_count": 20
        }
      ]
    },
    {
      "cell_type": "code",
      "metadata": {
        "colab": {
          "base_uri": "https://localhost:8080/"
        },
        "id": "V7y9ErdK_L7d",
        "outputId": "957acbf4-1c6c-4913-e4d8-d5ac1bb59b3c"
      },
      "source": [
        "ann.evaluate(xtest,ytest)"
      ],
      "execution_count": null,
      "outputs": [
        {
          "output_type": "stream",
          "name": "stdout",
          "text": [
            "10/10 [==============================] - 0s 2ms/step - loss: 34.6950\n"
          ]
        },
        {
          "output_type": "execute_result",
          "data": {
            "text/plain": [
              "34.694976806640625"
            ]
          },
          "metadata": {},
          "execution_count": 21
        }
      ]
    },
    {
      "cell_type": "code",
      "metadata": {
        "id": "lgr9EdPZ_R2K"
      },
      "source": [
        "ypred=ann.predict(xtest)"
      ],
      "execution_count": null,
      "outputs": []
    },
    {
      "cell_type": "code",
      "metadata": {
        "id": "m5_einZg_YU6"
      },
      "source": [
        "dic = {\"Actual Y\":ytest, \"Predicted Y\":ypred.flatten()}\n",
        "df1=pd.DataFrame(dic)"
      ],
      "execution_count": null,
      "outputs": []
    },
    {
      "cell_type": "code",
      "metadata": {
        "colab": {
          "base_uri": "https://localhost:8080/",
          "height": 203
        },
        "id": "cXwUCXR-_-F4",
        "outputId": "cf0bb77f-c01d-4a05-8865-951ddaf045c7"
      },
      "source": [
        "df1.head()"
      ],
      "execution_count": null,
      "outputs": [
        {
          "output_type": "execute_result",
          "data": {
            "text/html": [
              "<div>\n",
              "<style scoped>\n",
              "    .dataframe tbody tr th:only-of-type {\n",
              "        vertical-align: middle;\n",
              "    }\n",
              "\n",
              "    .dataframe tbody tr th {\n",
              "        vertical-align: top;\n",
              "    }\n",
              "\n",
              "    .dataframe thead th {\n",
              "        text-align: right;\n",
              "    }\n",
              "</style>\n",
              "<table border=\"1\" class=\"dataframe\">\n",
              "  <thead>\n",
              "    <tr style=\"text-align: right;\">\n",
              "      <th></th>\n",
              "      <th>Actual Y</th>\n",
              "      <th>Predicted Y</th>\n",
              "    </tr>\n",
              "  </thead>\n",
              "  <tbody>\n",
              "    <tr>\n",
              "      <th>0</th>\n",
              "      <td>489.057552</td>\n",
              "      <td>481.422791</td>\n",
              "    </tr>\n",
              "    <tr>\n",
              "      <th>1</th>\n",
              "      <td>526.210746</td>\n",
              "      <td>526.513611</td>\n",
              "    </tr>\n",
              "    <tr>\n",
              "      <th>2</th>\n",
              "      <td>518.360395</td>\n",
              "      <td>501.806091</td>\n",
              "    </tr>\n",
              "    <tr>\n",
              "      <th>3</th>\n",
              "      <td>552.778935</td>\n",
              "      <td>541.379333</td>\n",
              "    </tr>\n",
              "    <tr>\n",
              "      <th>4</th>\n",
              "      <td>649.395917</td>\n",
              "      <td>650.674133</td>\n",
              "    </tr>\n",
              "  </tbody>\n",
              "</table>\n",
              "</div>"
            ],
            "text/plain": [
              "     Actual Y  Predicted Y\n",
              "0  489.057552   481.422791\n",
              "1  526.210746   526.513611\n",
              "2  518.360395   501.806091\n",
              "3  552.778935   541.379333\n",
              "4  649.395917   650.674133"
            ]
          },
          "metadata": {},
          "execution_count": 27
        }
      ]
    },
    {
      "cell_type": "code",
      "metadata": {
        "colab": {
          "base_uri": "https://localhost:8080/",
          "height": 279
        },
        "id": "ttz2wPtOAAoA",
        "outputId": "2a49bdf2-4f21-4f41-947f-769e62935ef3"
      },
      "source": [
        "sns.scatterplot(x=\"Actual Y\",y=\"Predicted Y\", data=df1)\n",
        "plt.show()"
      ],
      "execution_count": null,
      "outputs": [
        {
          "output_type": "display_data",
          "data": {
            "image/png": "[encoded data removed]",
            "text/plain": [
              "<Figure size 432x288 with 1 Axes>"
            ]
          },
          "metadata": {
            "needs_background": "light"
          }
        }
      ]
    },
    {
      "cell_type": "code",
      "metadata": {
        "colab": {
          "base_uri": "https://localhost:8080/"
        },
        "id": "6cojc8FTATHP",
        "outputId": "afc48901-6952-4ff6-e4de-1f97818f1bad"
      },
      "source": [
        "from sklearn.metrics import mean_squared_error\n",
        "print(f\"MSE : {mean_squared_error(ytest,ypred)}\")\n",
        "print(f\"RMSE : {np.sqrt(mean_squared_error(ytest,ypred))}\")\n"
      ],
      "execution_count": null,
      "outputs": [
        {
          "output_type": "stream",
          "name": "stdout",
          "text": [
            "MSE : 34.6949908396399\n",
            "RMSE : 5.890245397234303\n"
          ]
        }
      ]
    },
    {
      "cell_type": "code",
      "metadata": {
        "colab": {
          "base_uri": "https://localhost:8080/"
        },
        "id": "rYpw1HzSBQ8I",
        "outputId": "98875460-0a76-4ef2-9a7a-2ff781b42d9b"
      },
      "source": [
        "newdata=[[800,850]]\n",
        " \n",
        "newdata=sc.transform(newdata)\n",
        "\n",
        "ann.predict(newdata)"
      ],
      "execution_count": null,
      "outputs": [
        {
          "output_type": "execute_result",
          "data": {
            "text/plain": [
              "array([[6594.1426]], dtype=float32)"
            ]
          },
          "metadata": {},
          "execution_count": 35
        }
      ]
    },
    {
      "cell_type": "code",
      "metadata": {
        "colab": {
          "base_uri": "https://localhost:8080/"
        },
        "id": "Tz5bvVAFBj-Y",
        "outputId": "72de0f05-0912-442d-cf38-dd6ff8ecdff9"
      },
      "source": [
        "from tensorflow.keras.models import load_model\n",
        "ann.save(\"ANN_fake\")"
      ],
      "execution_count": null,
      "outputs": [
        {
          "output_type": "stream",
          "name": "stdout",
          "text": [
            "INFO:tensorflow:Assets written to: ANN_fake/assets\n"
          ]
        }
      ]
    },
    {
      "cell_type": "code",
      "metadata": {
        "id": "qeKz02XdB1gw"
      },
      "source": [
        "fr=load_model(\"ANN_fake\")"
      ],
      "execution_count": null,
      "outputs": []
    },
    {
      "cell_type": "code",
      "metadata": {
        "colab": {
          "base_uri": "https://localhost:8080/"
        },
        "id": "pLDl6FGNB_nA",
        "outputId": "80b89548-ebb6-47eb-c1f3-5307ec1d7204"
      },
      "source": [
        "fr.predict(newdata)"
      ],
      "execution_count": null,
      "outputs": [
        {
          "output_type": "execute_result",
          "data": {
            "text/plain": [
              "array([[6594.1426]], dtype=float32)"
            ]
          },
          "metadata": {},
          "execution_count": 38
        }
      ]
    },
    {
      "cell_type": "code",
      "metadata": {
        "id": "kK9Bbm-wCC7Q"
      },
      "source": [
        ""
      ],
      "execution_count": null,
      "outputs": []
    }
  ]
}